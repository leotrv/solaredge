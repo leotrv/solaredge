{
 "cells": [
  {
   "cell_type": "code",
   "execution_count": 5,
   "metadata": {},
   "outputs": [],
   "source": [
    "import requests\n",
    "import datetime as dt\n",
    "from matplotlib import pyplot"
   ]
  },
  {
   "cell_type": "code",
   "execution_count": 2,
   "metadata": {},
   "outputs": [],
   "source": [
    "site = \"2710924\" #Standort ID\n",
    "api_key = \"1KP4K9CZOFOS9XZU3ZXHWM24RJTXCWAL\""
   ]
  },
  {
   "cell_type": "code",
   "execution_count": 14,
   "metadata": {},
   "outputs": [
    {
     "name": "stdout",
     "output_type": "stream",
     "text": [
      "{\"siteCurrentPowerFlow\":{\"updateRefreshRate\":3,\"unit\":\"kW\",\"connections\":[{\"from\":\"PV\",\"to\":\"Load\"},{\"from\":\"GRID\",\"to\":\"Load\"},{\"from\":\"PV\",\"to\":\"Storage\"}],\"GRID\":{\"status\":\"Active\",\"currentPower\":0.05},\"LOAD\":{\"status\":\"Active\",\"currentPower\":3.01},\"PV\":{\"status\":\"Active\",\"currentPower\":4.02},\"STORAGE\":{\"status\":\"Charging\",\"currentPower\":1.06,\"chargeLevel\":38,\"critical\":false}}}\n"
     ]
    }
   ],
   "source": [
    "#current PowerFlow\n",
    "urlpowerflow = \"https://monitoringapi.solaredge.com/site/\" + site + \"/currentPowerFlow?api_key=\" + api_key\n",
    "power = requests.get(urlpowerflow)\n",
    "if power.status_code == 200:\n",
    "    print(power.text)"
   ]
  },
  {
   "cell_type": "code",
   "execution_count": 15,
   "metadata": {},
   "outputs": [
    {
     "name": "stdout",
     "output_type": "stream",
     "text": [
      "{\"timeFrameEnergy\":{\"energy\":2339476.0,\"unit\":\"Wh\",\"measuredBy\":\"INVERTER\",\"endLifetimeEnergy\":{\"date\":\"2022-04-13\",\"energy\":2322172.5,\"unit\":\"Wh\"}}}\n"
     ]
    }
   ],
   "source": [
    "#generated Powerflow cumulated\n",
    "startdate = \"2022-2-9\"\n",
    "enddate = \"2022-4-14\"\n",
    "urlgen = \"https://monitoringapi.solaredge.com/site/\" + site + \"/timeFrameEnergy?startDate=\" + startdate + \"&endDate=\" + enddate + \"&api_key=\" + api_key\n",
    "genpwfl = requests.get(urlgen)\n",
    "if genpwfl.status_code == 200:\n",
    "    print(genpwfl.text)"
   ]
  },
  {
   "cell_type": "code",
   "execution_count": 6,
   "metadata": {},
   "outputs": [],
   "source": [
    "#generated power per day\n",
    "startdate = \"2022-02-10\"\n",
    "enddate = \"2022-04-14\"\n",
    "\n",
    "if startdate[5] == '0':\n",
    "    startdate[5].replace(startdate[5], ' ')\n",
    "if enddate[5] == '0':\n",
    "    enddate[5].replace(enddate[5], ' ')\n",
    "\n",
    "\n",
    "urlgenpower = \"https://monitoringapi.solaredge.com/site/\" + site + \"/energy?timeUnit=DAY&endDate=\" + enddate + \"&startDate=\" + startdate + \"&api_key=\" + api_key\n",
    "\n",
    "genpower = requests.get(urlgenpower)\n",
    "if genpower.status_code == 200:\n",
    "    genpower = genpower.json()\n",
    "    genpower_list = genpower['energy']['values']    #create list of dictionaries"
   ]
  },
  {
   "cell_type": "code",
   "execution_count": 9,
   "metadata": {},
   "outputs": [
    {
     "name": "stdout",
     "output_type": "stream",
     "text": [
      "[2022, 2, 10] [2022, 4, 14]\n"
     ]
    }
   ],
   "source": [
    "#change data type from str to int to calculate difference of the two dates in days\n",
    "parts1 = startdate.split('-')\n",
    "parts1 = [int(i) for i in parts1]\n",
    "\n",
    "parts2 = enddate.split('-')\n",
    "parts2 = [int(i) for i in parts2]\n",
    "\n",
    "print(parts1, parts2)"
   ]
  },
  {
   "cell_type": "code",
   "execution_count": 10,
   "metadata": {},
   "outputs": [],
   "source": [
    "#extract power values from genpower_list\n",
    "\n",
    "from datetime import date\n",
    "a=date(parts1[0],parts1[1],parts1[2])\n",
    "b=date(parts2[0],parts2[1],parts2[2])   \n",
    "days = (b-a).days\n",
    "\n",
    "values_list=[]\n",
    "days_list=[]\n",
    "for day in range(0,days):\n",
    "    values_list.append(genpower_list[day]['value'])\n",
    "    days_list.append(genpower_list[day]['date'])\n",
    "#print(values_list, days_list)"
   ]
  },
  {
   "cell_type": "code",
   "execution_count": 12,
   "metadata": {},
   "outputs": [
    {
     "data": {
      "image/png": "[encoded data removed]",
      "text/plain": [
       "<Figure size 432x288 with 1 Axes>"
      ]
     },
     "metadata": {
      "needs_background": "light"
     },
     "output_type": "display_data"
    }
   ],
   "source": [
    "#visualization\n",
    "pyplot.plot(days_list,values_list)\n",
    "pyplot.show()"
   ]
  },
  {
   "cell_type": "code",
   "execution_count": 37,
   "metadata": {},
   "outputs": [],
   "source": [
    "#feeded power into the grid\n",
    "startdate = \"2022-03-01\" \n",
    "enddate = \"2022-03-20\"\n",
    "\n",
    "urlfeed = 'https://monitoringapi.solaredge.com/site/' + site + '/energyDetails?meters=FEEDIN&timeUnit=MONTH&startTime=' + startdate + ' 00:00:00&endTime=' + enddate + ' 00:00:00&api_key=' + api_key\n",
    "feedin = requests.get(urlfeed)\n",
    "if feedin.status_code == 200:\n",
    "    feedin = feedin.json()\n",
    "    feedin_list1 = feedin['energyDetails']['meters']\n",
    "    feedin = feedin_list1[0]['values'][0]['value'] #FeedIn value in Wh for full month starting from startdate"
   ]
  },
  {
   "cell_type": "code",
   "execution_count": 49,
   "metadata": {},
   "outputs": [],
   "source": [
    "#create invoice\n"
   ]
  }
 ],
 "metadata": {
  "interpreter": {
   "hash": "f1c83d07e3953233973fa90d24ba8c7e66570a2985e248f8a24b30cf7f0bf626"
  },
  "kernelspec": {
   "display_name": "Python 3.10.0 64-bit (system)",
   "language": "python",
   "name": "python3"
  },
  "language_info": {
   "codemirror_mode": {
    "name": "ipython",
    "version": 3
   },
   "file_extension": ".py",
   "mimetype": "text/x-python",
   "name": "python",
   "nbconvert_exporter": "python",
   "pygments_lexer": "ipython3",
   "version": "3.10.0"
  },
  "orig_nbformat": 4
 },
 "nbformat": 4,
 "nbformat_minor": 2
}

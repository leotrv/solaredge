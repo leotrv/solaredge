{
 "cells": [
  {
   "cell_type": "code",
   "execution_count": 4,
   "metadata": {},
   "outputs": [],
   "source": [
    "import requests\n",
    "\n"
   ]
  },
  {
   "cell_type": "code",
   "execution_count": 5,
   "metadata": {},
   "outputs": [],
   "source": [
    "site = \"2710924\" #Standort ID\n",
    "api_key = \"1KP4K9CZOFOS9XZU3ZXHWM24RJTXCWAL\"\n"
   ]
  },
  {
   "cell_type": "code",
   "execution_count": 33,
   "metadata": {},
   "outputs": [
    {
     "name": "stdout",
     "output_type": "stream",
     "text": [
      "{\"siteCurrentPowerFlow\":{\"updateRefreshRate\":3,\"unit\":\"kW\",\"connections\":[{\"from\":\"LOAD\",\"to\":\"Grid\"},{\"from\":\"PV\",\"to\":\"Load\"}],\"GRID\":{\"status\":\"Active\",\"currentPower\":6.43},\"LOAD\":{\"status\":\"Active\",\"currentPower\":0.57},\"PV\":{\"status\":\"Active\",\"currentPower\":7.0},\"STORAGE\":{\"status\":\"Idle\",\"currentPower\":0.0,\"chargeLevel\":100,\"critical\":false}}}\n"
     ]
    }
   ],
   "source": [
    "#current PowerFlow\n",
    "urlpowerflow = \"https://monitoringapi.solaredge.com/site/\" + site + \"/currentPowerFlow?api_key=\" + api_key\n",
    "power = requests.get(urlpowerflow)\n",
    "if power.status_code == 200:\n",
    "    print(power.text)"
   ]
  },
  {
   "cell_type": "code",
   "execution_count": 29,
   "metadata": {},
   "outputs": [
    {
     "data": {
      "text/plain": [
       "'UTF-8'"
      ]
     },
     "execution_count": 29,
     "metadata": {},
     "output_type": "execute_result"
    }
   ],
   "source": [
    "#Variablen festlegen"
   ]
  },
  {
   "cell_type": "code",
   "execution_count": 41,
   "metadata": {},
   "outputs": [
    {
     "name": "stdout",
     "output_type": "stream",
     "text": [
      "{\"energy\":{\"timeUnit\":\"DAY\",\"unit\":\"Wh\",\"measuredBy\":\"INVERTER\",\"values\":[]}}\n"
     ]
    }
   ],
   "source": [
    "#generated power\n",
    "startdate = \"2022-04-08\"\n",
    "enddate = \"2022-02-15\"\n",
    "\n",
    "urlgenpower = \"https://monitoringapi.solaredge.com/site/\" + site + \"/energy?timeUnit=DAY&endDate=\" + enddate + \"&startDate=\" + startdate + \"&api_key=\" + api_key\n",
    "\n",
    "genpower = requests.get(urlgenpower)\n",
    "if genpower.status_code == 200:\n",
    "    print (genpower.text)"
   ]
  }
 ],
 "metadata": {
  "kernelspec": {
   "display_name": "Python 3.10.0 64-bit (system)",
   "language": "python",
   "name": "python3"
  },
  "language_info": {
   "codemirror_mode": {
    "name": "ipython",
    "version": 3
   },
   "file_extension": ".py",
   "mimetype": "text/x-python",
   "name": "python",
   "nbconvert_exporter": "python",
   "pygments_lexer": "ipython3",
   "version": "3.10.0"
  },
  "orig_nbformat": 4,
  "vscode": {
   "interpreter": {
    "hash": "8b192ed25f3841fc60feeaf3ceed4291438c5a9647803ee24eff7f0eb47ead65"
   }
  }
 },
 "nbformat": 4,
 "nbformat_minor": 2
}
